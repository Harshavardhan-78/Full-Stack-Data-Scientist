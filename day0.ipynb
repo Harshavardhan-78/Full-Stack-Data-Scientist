{
 "cells": [
  {
   "cell_type": "code",
   "execution_count": 1,
   "id": "fcdae3b8",
   "metadata": {},
   "outputs": [
    {
     "name": "stdout",
     "output_type": "stream",
     "text": [
      "4 3\n"
     ]
    }
   ],
   "source": [
    "a,b=map(int,input().split())\n",
    "a,b=b,a\n",
    "print(a,b)"
   ]
  },
  {
   "cell_type": "code",
   "execution_count": 3,
   "id": "ec384e9f",
   "metadata": {},
   "outputs": [
    {
     "name": "stdout",
     "output_type": "stream",
     "text": [
      "koob\n"
     ]
    }
   ],
   "source": [
    "t=input()\n",
    "print(t[::-1])"
   ]
  },
  {
   "cell_type": "code",
   "execution_count": 6,
   "id": "16868a2f",
   "metadata": {},
   "outputs": [
    {
     "name": "stdout",
     "output_type": "stream",
     "text": [
      "Yes\n"
     ]
    }
   ],
   "source": [
    "n=int(input())\n",
    "p=len(str(n))\n",
    "t=0\n",
    "N=n\n",
    "while(n!=0):\n",
    "    r=n%10\n",
    "    t=t+r**p\n",
    "    n=n//10\n",
    "if t==N:\n",
    "    print(\"Yes\")\n",
    "else:\n",
    "    print(\"No\")"
   ]
  },
  {
   "cell_type": "code",
   "execution_count": 7,
   "id": "e0fe5142",
   "metadata": {},
   "outputs": [
    {
     "name": "stdout",
     "output_type": "stream",
     "text": [
      "3 2\n"
     ]
    }
   ],
   "source": [
    "s=input()\n",
    "s.lower()\n",
    "se=['a','e','i','o','u']\n",
    "v=0\n",
    "c=0\n",
    "for i in s:\n",
    "    if i==\" \":\n",
    "        continue\n",
    "    if i in se:\n",
    "        v+=1\n",
    "    else:\n",
    "        c+=1\n",
    "print(v,c)"
   ]
  },
  {
   "cell_type": "code",
   "execution_count": 8,
   "id": "b4777133",
   "metadata": {},
   "outputs": [
    {
     "name": "stdout",
     "output_type": "stream",
     "text": [
      "5 * 1 = 5\n",
      "5 * 2 = 10\n",
      "5 * 3 = 15\n",
      "5 * 4 = 20\n",
      "5 * 5 = 25\n",
      "5 * 6 = 30\n",
      "5 * 7 = 35\n",
      "5 * 8 = 40\n",
      "5 * 9 = 45\n",
      "5 * 10 = 50\n"
     ]
    }
   ],
   "source": [
    "n=int(input())\n",
    "for i in range(1,11):\n",
    "    print(n,'*',i,'=',n*i)"
   ]
  },
  {
   "cell_type": "code",
   "execution_count": 10,
   "id": "60f6093e",
   "metadata": {},
   "outputs": [
    {
     "name": "stdout",
     "output_type": "stream",
     "text": [
      "Leap year\n"
     ]
    }
   ],
   "source": [
    "n=int(input())\n",
    "if (n%4==0 and n%100!=0) or  (n%400==0):\n",
    "    print(\"Leap year\")\n",
    "else:\n",
    "    print(\"No,Not a leap year\")"
   ]
  },
  {
   "cell_type": "code",
   "execution_count": 12,
   "id": "157ab196",
   "metadata": {},
   "outputs": [
    {
     "name": "stdout",
     "output_type": "stream",
     "text": [
      "Enter five numbers\n",
      "max 6\n"
     ]
    }
   ],
   "source": [
    "l=list(map(int,input().split()))\n",
    "print(\"Enter five numbers\")\n",
    "print(\"max\",max(l))"
   ]
  },
  {
   "cell_type": "code",
   "execution_count": 13,
   "id": "02449a5b",
   "metadata": {},
   "outputs": [
    {
     "name": "stdout",
     "output_type": "stream",
     "text": [
      "True\n"
     ]
    }
   ],
   "source": [
    "s=input()\n",
    "if(s==s[::-1]):\n",
    "    print(\"True\")\n",
    "else:\n",
    "    print(\"False\")"
   ]
  },
  {
   "cell_type": "code",
   "execution_count": 14,
   "id": "4307dea2",
   "metadata": {},
   "outputs": [
    {
     "name": "stdout",
     "output_type": "stream",
     "text": [
      "Yes, it's a prime number.\n"
     ]
    }
   ],
   "source": [
    "def is_prime(n):\n",
    "    if n <= 1:\n",
    "        return False\n",
    "    for i in range(2, int(n ** 0.5) + 1):\n",
    "        if n % i == 0:\n",
    "            return False\n",
    "    return True\n",
    "\n",
    "num = int(input(\"Enter a number: \"))\n",
    "if is_prime(num):\n",
    "    print(\"Yes, it's a prime number.\")\n",
    "else:\n",
    "    print(\"No, it's not a prime number.\")\n"
   ]
  },
  {
   "cell_type": "code",
   "execution_count": 16,
   "id": "e91705af",
   "metadata": {},
   "outputs": [
    {
     "name": "stdout",
     "output_type": "stream",
     "text": [
      "5\n"
     ]
    }
   ],
   "source": [
    "    m=list(map(int,input().split()))\n",
    "    s=set(m)\n",
    "    s=sorted(s)\n",
    "    print(s[-2])"
   ]
  },
  {
   "cell_type": "code",
   "execution_count": 17,
   "id": "55a0de2f",
   "metadata": {},
   "outputs": [
    {
     "name": "stdout",
     "output_type": "stream",
     "text": [
      "Sum of even numbers: 650\n"
     ]
    }
   ],
   "source": [
    "sum_even = 0\n",
    "for i in range(1, 51):\n",
    "    if i % 2 == 0:\n",
    "        sum_even += i\n",
    "print(\"Sum of even numbers:\", sum_even)\n"
   ]
  },
  {
   "cell_type": "code",
   "execution_count": 18,
   "id": "19666861",
   "metadata": {},
   "outputs": [
    {
     "name": "stdout",
     "output_type": "stream",
     "text": [
      "5 1\n"
     ]
    }
   ],
   "source": [
    "n=input()\n",
    "l,u=0,0\n",
    "for i in n:\n",
    "    if i.islower():\n",
    "        l+=1\n",
    "    if i.isupper():\n",
    "        u+=1\n",
    "print(l,u)"
   ]
  },
  {
   "cell_type": "code",
   "execution_count": 20,
   "id": "42287820",
   "metadata": {},
   "outputs": [
    {
     "name": "stdout",
     "output_type": "stream",
     "text": [
      "[0, 1, 1, 2, 3, 5]\n"
     ]
    }
   ],
   "source": [
    "def fibonacci(n):\n",
    "    if n <= 0:\n",
    "        return []\n",
    "    elif n == 1:\n",
    "        return [0]\n",
    "    elif n == 2:\n",
    "        return [0, 1]\n",
    "    else:\n",
    "        fib_sequence = fibonacci(n - 1)\n",
    "        fib_sequence.append(fib_sequence[-1] + fib_sequence[-2])\n",
    "        return fib_sequence\n",
    "\n",
    "n = int(input(\"Enter the no of terms: \"))\n",
    "print(fibonacci(n))\n"
   ]
  },
  {
   "cell_type": "code",
   "execution_count": 21,
   "id": "2307c79f",
   "metadata": {},
   "outputs": [
    {
     "name": "stdout",
     "output_type": "stream",
     "text": [
      "True\n"
     ]
    }
   ],
   "source": [
    "m=input().split()\n",
    "a=set(m[0])\n",
    "b=set(m[1])\n",
    "if a==b:\n",
    "    print(\"True\")\n",
    "else:\n",
    "    print(\"False\")"
   ]
  },
  {
   "cell_type": "code",
   "execution_count": 22,
   "id": "95b96918",
   "metadata": {},
   "outputs": [
    {
     "name": "stdout",
     "output_type": "stream",
     "text": [
      "a perfect number.\n"
     ]
    }
   ],
   "source": [
    "def is_perfect(n):\n",
    "    sum_divisors = 0\n",
    "    for i in range(1, n):\n",
    "        if n % i == 0:\n",
    "            sum_divisors += i\n",
    "    return sum_divisors == n\n",
    "\n",
    "num = int(input(\"Enter a number: \"))\n",
    "if is_perfect(num):\n",
    "    print(\"a perfect number.\")\n",
    "else:\n",
    "    print(\"Not a perfect number.\")\n"
   ]
  },
  {
   "cell_type": "code",
   "execution_count": 23,
   "id": "e85d265f",
   "metadata": {},
   "outputs": [
    {
     "name": "stdout",
     "output_type": "stream",
     "text": [
      "A\n"
     ]
    }
   ],
   "source": [
    "l=list(map(int,input().split()))\n",
    "s=sum(l)\n",
    "if s>=90:\n",
    "    print(\"A\")\n",
    "elif s>=75 and s<90:\n",
    "    print(\"B\")\n",
    "elif s>=50 and s<75:\n",
    "    print(\"C\")\n",
    "else:\n",
    "    print(\"Fail\")"
   ]
  },
  {
   "cell_type": "code",
   "execution_count": 25,
   "id": "4ebb03a4",
   "metadata": {},
   "outputs": [
    {
     "name": "stdout",
     "output_type": "stream",
     "text": [
      "2 3 5 7 11 13 17 19 23 29 31 37 41 43 47 53 59 61 67 71 73 79 83 89 97 "
     ]
    }
   ],
   "source": [
    "def is_prime(n):\n",
    "    if n <= 1:\n",
    "        return False\n",
    "    for i in range(2, int(n ** 0.5) + 1):\n",
    "        if n % i == 0:\n",
    "            return False\n",
    "    return True\n",
    "\n",
    "for i in range(1,101):\n",
    "    if is_prime(i):\n",
    "        print(i,end=\" \")"
   ]
  },
  {
   "cell_type": "code",
   "execution_count": 26,
   "id": "e80e3c66",
   "metadata": {},
   "outputs": [
    {
     "name": "stdout",
     "output_type": "stream",
     "text": [
      "10\n"
     ]
    }
   ],
   "source": [
    "n=input()\n",
    "c=0\n",
    "for i in n:\n",
    "    if i ==\" \":\n",
    "        c+=1\n",
    "print(c)"
   ]
  },
  {
   "cell_type": "code",
   "execution_count": 27,
   "id": "50824fbd",
   "metadata": {},
   "outputs": [
    {
     "name": "stdout",
     "output_type": "stream",
     "text": [
      "240.0\n"
     ]
    }
   ],
   "source": [
    "m=input().split()\n",
    "a=int(m[0])\n",
    "b=int(m[1])\n",
    "c=m[2]\n",
    "if c==\"yes\":\n",
    "    p=a-(a*0.2)\n",
    "elif b>=60:\n",
    "    p=a-(a*0.1)\n",
    "print(p)\n"
   ]
  },
  {
   "cell_type": "code",
   "execution_count": 28,
   "id": "a61b7b68",
   "metadata": {},
   "outputs": [
    {
     "name": "stdout",
     "output_type": "stream",
     "text": [
      "450\n"
     ]
    }
   ],
   "source": [
    "n=int(input())\n",
    "if n>=500:\n",
    "    print(n)\n",
    "else:\n",
    "    print(n+50)"
   ]
  },
  {
   "cell_type": "code",
   "execution_count": 29,
   "id": "afa98300",
   "metadata": {},
   "outputs": [
    {
     "name": "stdout",
     "output_type": "stream",
     "text": [
      "Fail\n"
     ]
    }
   ],
   "source": [
    "l=list(map(int,input().split()))\n",
    "s=sum(l)\n",
    "if s>=90:\n",
    "    print(\"A\")\n",
    "elif s>=75 and s<90:\n",
    "    print(\"B\")\n",
    "elif s>=50 and s<75:\n",
    "    print(\"C\")\n",
    "else:\n",
    "    print(\"Fail\")"
   ]
  },
  {
   "cell_type": "code",
   "execution_count": 30,
   "id": "219d6fde",
   "metadata": {},
   "outputs": [
    {
     "name": "stdout",
     "output_type": "stream",
     "text": [
      "60.0\n"
     ]
    }
   ],
   "source": [
    "n=int(input())\n",
    "if n<500:\n",
    "    print(n*0.05)\n",
    "else:\n",
    "    print(n*0.1)"
   ]
  },
  {
   "cell_type": "code",
   "execution_count": 32,
   "id": "31f2db31",
   "metadata": {},
   "outputs": [
    {
     "name": "stdout",
     "output_type": "stream",
     "text": [
      "2700\n"
     ]
    }
   ],
   "source": [
    "n=int(input())\n",
    "if n<6:\n",
    "    print(n*500)\n",
    "elif n==6:\n",
    "    print(2700)\n",
    "elif n==12:\n",
    "    print(5000)"
   ]
  },
  {
   "cell_type": "code",
   "execution_count": 33,
   "id": "208dee89",
   "metadata": {},
   "outputs": [
    {
     "name": "stdout",
     "output_type": "stream",
     "text": [
      "Eligible\n"
     ]
    }
   ],
   "source": [
    "\n",
    "m=list(map(int,input().split()))\n",
    "p=(m[0]/m[1])*100\n",
    "if p>=75:\n",
    "    print(\"Eligible\")\n",
    "else:\n",
    "    print(\"Not Eligible\")"
   ]
  },
  {
   "cell_type": "code",
   "execution_count": 35,
   "id": "9664814c",
   "metadata": {},
   "outputs": [
    {
     "name": "stdout",
     "output_type": "stream",
     "text": [
      "Sucess\n"
     ]
    }
   ],
   "source": [
    "w=int(input())\n",
    "if w%100==0 and w>0:\n",
    "    print(\"Sucess\")\n",
    "else:\n",
    "    print(\"Fail\")"
   ]
  },
  {
   "cell_type": "code",
   "execution_count": 36,
   "id": "9295a861",
   "metadata": {},
   "outputs": [
    {
     "name": "stdout",
     "output_type": "stream",
     "text": [
      "Too hot, stay indoors!\n"
     ]
    }
   ],
   "source": [
    "l=list(map(int,input().split()))\n",
    "s=sum(l)\n",
    "if s>=35:\n",
    "    print(\"Too hot, stay indoors!\")\n",
    "elif s>=20 and s<35:\n",
    "    print(\"Nice weather, go out!\")\n",
    "elif s<20:\n",
    "    print(\"It’s cold, wear warm clothes!\")\n"
   ]
  },
  {
   "cell_type": "code",
   "execution_count": 39,
   "id": "5445b7f1",
   "metadata": {},
   "outputs": [
    {
     "name": "stdout",
     "output_type": "stream",
     "text": [
      "10\n"
     ]
    }
   ],
   "source": [
    "s=int(input())\n",
    "if s>10:\n",
    "    p=100\n",
    "elif s>=6 and s<10:\n",
    "    p=50\n",
    "elif s>=1 and s<5:\n",
    "    p=10\n",
    "print(p)"
   ]
  },
  {
   "cell_type": "code",
   "execution_count": 40,
   "id": "d9adbfef",
   "metadata": {},
   "outputs": [
    {
     "name": "stdout",
     "output_type": "stream",
     "text": [
      "1050\n"
     ]
    }
   ],
   "source": [
    "s=int(input())\n",
    "if s<100:\n",
    "    p=5\n",
    "elif s>100 and s<201:\n",
    "    p=7\n",
    "elif s>200 :\n",
    "    p=10\n",
    "print(s*p)"
   ]
  },
  {
   "cell_type": "code",
   "execution_count": null,
   "id": "44139b41",
   "metadata": {},
   "outputs": [],
   "source": []
  }
 ],
 "metadata": {
  "kernelspec": {
   "display_name": "base",
   "language": "python",
   "name": "python3"
  },
  "language_info": {
   "codemirror_mode": {
    "name": "ipython",
    "version": 3
   },
   "file_extension": ".py",
   "mimetype": "text/x-python",
   "name": "python",
   "nbconvert_exporter": "python",
   "pygments_lexer": "ipython3",
   "version": "3.13.5"
  }
 },
 "nbformat": 4,
 "nbformat_minor": 5
}
