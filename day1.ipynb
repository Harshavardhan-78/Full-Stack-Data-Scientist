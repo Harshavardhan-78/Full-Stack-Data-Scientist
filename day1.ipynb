{
 "cells": [
  {
   "cell_type": "code",
   "execution_count": 8,
   "id": "7c7bcce0",
   "metadata": {},
   "outputs": [
    {
     "name": "stdout",
     "output_type": "stream",
     "text": [
      "cost 310\n"
     ]
    }
   ],
   "source": [
    "gro=dict()\n",
    "for i in range(3):\n",
    "    k=input().split(\" \")\n",
    "    gro[int(k[0])] = int(k[1])\n",
    "s=0\n",
    "for i,j in gro.items():\n",
    "    s+=i*j\n",
    "print(\"cost\",s)\n",
    "\n"
   ]
  },
  {
   "cell_type": "code",
   "execution_count": 6,
   "id": "01479a05",
   "metadata": {},
   "outputs": [
    {
     "name": "stdout",
     "output_type": "stream",
     "text": [
      "first number\n",
      "second number\n",
      "add 7\n",
      "sub -1\n",
      "Mul 12\n",
      "Div 0.75\n",
      "Modulo 3\n"
     ]
    }
   ],
   "source": [
    "print(\"first number\")\n",
    "f=int(input())\n",
    "print(\"second number\")\n",
    "s=int(input())\n",
    "print(\"add\",f+s)\n",
    "print(\"sub\",f-s)\n",
    "print(\"Mul\",f*s)\n",
    "print(\"Div\",f/s)\n",
    "print(\"Modulo\",f%s)"
   ]
  },
  {
   "cell_type": "code",
   "execution_count": 9,
   "id": "d0170db3",
   "metadata": {},
   "outputs": [
    {
     "name": "stdout",
     "output_type": "stream",
     "text": [
      "Grade: A+\n"
     ]
    }
   ],
   "source": [
    "m=int(input(\"marks:\"))\n",
    "print(\"Grade:\",end=\" \")\n",
    "if m>=90:\n",
    "    print(\"A+\")\n",
    "elif m>=80 and m<90:\n",
    "    print(\"A\")\n",
    "elif m>=70 and m<80:\n",
    "    print(\"B\")\n",
    "elif m>=60 and m<70:\n",
    "    print(\"C\")\n",
    "else:\n",
    "    print(\"Fail\")"
   ]
  },
  {
   "cell_type": "code",
   "execution_count": 11,
   "id": "14befaf0",
   "metadata": {},
   "outputs": [
    {
     "name": "stdout",
     "output_type": "stream",
     "text": [
      "Highest Marks: 90\n",
      "Lowest Marks: 45\n",
      "Average Marks 71.4\n"
     ]
    }
   ],
   "source": [
    "l=list(map(int,input().split(\" \")))\n",
    "print(\"Highest Marks:\",max(l))\n",
    "print(\"Lowest Marks:\",min(l))\n",
    "print(\"Average Marks\",sum(l)/len(l))"
   ]
  },
  {
   "cell_type": "code",
   "execution_count": 21,
   "id": "c7c23d3b",
   "metadata": {},
   "outputs": [
    {
     "name": "stdout",
     "output_type": "stream",
     "text": [
      "9876543210\n"
     ]
    }
   ],
   "source": [
    "gro=dict()\n",
    "n=input(\"number of people\")\n",
    "for i in n.split(\",\"):\n",
    "    k=i.split(\":\")\n",
    "    gro[k[0]] = int(k[1])\n",
    "s=input(\"search\")\n",
    "print(gro[s])"
   ]
  },
  {
   "cell_type": "code",
   "execution_count": 26,
   "id": "223336b0",
   "metadata": {},
   "outputs": [
    {
     "name": "stdout",
     "output_type": "stream",
     "text": [
      "Total Words = 2\n",
      "Total Characters = 13\n",
      "Total Vowels= 5\n"
     ]
    }
   ],
   "source": [
    "c,w,v1=0,0,0\n",
    "v={'a','e','i','o','u'}\n",
    "s=input(\"Sentence\")\n",
    "for word in s.split():\n",
    "    w+=1\n",
    "    for char in word:\n",
    "        c+=1\n",
    "        if char.lower() in v:\n",
    "            v1+=1\n",
    "print(f\"Total Words = {w}\\nTotal Characters = {c}\\nTotal Vowels= {v1}\")"
   ]
  },
  {
   "cell_type": "code",
   "execution_count": 28,
   "id": "993b2ece",
   "metadata": {},
   "outputs": [
    {
     "name": "stdout",
     "output_type": "stream",
     "text": [
      "Compound Interest = 512.5\n",
      "Total Amount = 5512.5 \n"
     ]
    }
   ],
   "source": [
    "p=int(input(\"Principal\"))\n",
    "r=float(input(\"Rate \"))\n",
    "t=float(input(\"Time\"))\n",
    "ty=input()\n",
    "if ty==\"Simple\":\n",
    "    si=(p*r*t)/100\n",
    "    print(f\"Simple Interest = {si}\")\n",
    "    print(f\"Total Amount = {si + p} \")\n",
    "else:\n",
    "    ci=p*(1+(r/100))**t - p\n",
    "    print(f\"Compound Interest = {ci}\")\n",
    "    print(f\"Total Amount = {ci + p} \")\n"
   ]
  },
  {
   "cell_type": "code",
   "execution_count": null,
   "id": "fd44649b",
   "metadata": {},
   "outputs": [
    {
     "name": "stdout",
     "output_type": "stream",
     "text": [
      "khoor"
     ]
    }
   ],
   "source": [
    "s=input(\"Message\").lower()\n",
    "k=int(input(\"Key\"))\n",
    "for i in s:\n",
    "    print(chr(ord(i)+k)., end=\"\")"
   ]
  },
  {
   "cell_type": "code",
   "execution_count": 32,
   "id": "09dfff47",
   "metadata": {},
   "outputs": [
    {
     "name": "stdout",
     "output_type": "stream",
     "text": [
      "PIN verified\n",
      "Collect Cash\n",
      "Remaining Balance: 3000\n"
     ]
    }
   ],
   "source": [
    "p=int(input(\"Pin\"))\n",
    "b=int(input(\"Balance\"))\n",
    "w=int(input(\"Withdraw\"))\n",
    "if p==1234:\n",
    "    print(\"PIN verified\")\n",
    "    if w<=b:\n",
    "        b-=w\n",
    "        print(\"Collect Cash\")\n",
    "        print(\"Remaining Balance:\",b)\n",
    "    else:\n",
    "        print(\"Insufficient Balance\")"
   ]
  },
  {
   "cell_type": "code",
   "execution_count": 34,
   "id": "9826696b",
   "metadata": {},
   "outputs": [
    {
     "name": "stdout",
     "output_type": "stream",
     "text": [
      "Updated List: ['app', '', 'bapp', 'lap', 'map', 'rap']\n"
     ]
    }
   ],
   "source": [
    "l=list(map(str,input().split(\" \")))\n",
    "x=input()\n",
    "if x==\"add\":\n",
    "    l.append(input(\"Enter element to add: \"))\n",
    "elif x==\"remove\":\n",
    "    l.remove(input(\"Enter element to remove: \"))\n",
    "print(\"Updated List:\", l)"
   ]
  },
  {
   "cell_type": "code",
   "execution_count": null,
   "id": "773bc7f9",
   "metadata": {},
   "outputs": [],
   "source": []
  }
 ],
 "metadata": {
  "kernelspec": {
   "display_name": "base",
   "language": "python",
   "name": "python3"
  },
  "language_info": {
   "codemirror_mode": {
    "name": "ipython",
    "version": 3
   },
   "file_extension": ".py",
   "mimetype": "text/x-python",
   "name": "python",
   "nbconvert_exporter": "python",
   "pygments_lexer": "ipython3",
   "version": "3.13.5"
  }
 },
 "nbformat": 4,
 "nbformat_minor": 5
}
