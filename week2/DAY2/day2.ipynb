{
 "cells": [
  {
   "cell_type": "code",
   "execution_count": 3,
   "id": "d4a95e23",
   "metadata": {},
   "outputs": [
    {
     "name": "stdout",
     "output_type": "stream",
     "text": [
      "True\n"
     ]
    }
   ],
   "source": [
    "se={'$','_','-','/','#'}\n",
    "n=input(\"enter password\")\n",
    "d,l,u,s=False,False,False,False\n",
    "if len(n)>=8:\n",
    "    for i in n:\n",
    "        if i.isupper():\n",
    "            u=True\n",
    "        if i.islower():\n",
    "            l=True\n",
    "        if i.isdigit():\n",
    "            d=True\n",
    "        if i in se:\n",
    "            s=True\n",
    "print(u and l and d and s )"
   ]
  },
  {
   "cell_type": "code",
   "execution_count": null,
   "id": "a5369bab",
   "metadata": {},
   "outputs": [
    {
     "name": "stdout",
     "output_type": "stream",
     "text": [
      "5\n"
     ]
    }
   ],
   "source": [
    "def Cal(m):\n",
    "    a=int(input(\"enter operand1\"))\n",
    "    b=int(input(\"enter operand2\"))\n",
    "    if m==\"+\":\n",
    "        return a+b\n",
    "    elif m==\"-\":\n",
    "        return a-b\n",
    "    elif m==\"*\":\n",
    "        return a*b\n",
    "    elif m==\"/\":\n",
    "        if b==0:\n",
    "            return -1\n",
    "        return a//b\n",
    "    else:\n",
    "        return a%b\n",
    "print(\"output\",Cal(input(\"enter operator\")))\n"
   ]
  },
  {
   "cell_type": "code",
   "execution_count": 8,
   "id": "e332908d",
   "metadata": {},
   "outputs": [
    {
     "name": "stdout",
     "output_type": "stream",
     "text": [
      "['ga', 'ba', 'ga', 'ba', 'na', 'na', 'maa']\n",
      "['ga', 'ba', 'na']\n"
     ]
    }
   ],
   "source": [
    "from collections import Counter\n",
    "def Dup(l):\n",
    "    m=Counter(l)\n",
    "    x=[i for i in m if m[i]>=2]\n",
    "    return x\n",
    "\n",
    "l=list(map(str,input(\"enter list of students\").split()))\n",
    "print(l)\n",
    "print(Dup(l))"
   ]
  },
  {
   "cell_type": "code",
   "execution_count": 14,
   "id": "bd260251",
   "metadata": {},
   "outputs": [
    {
     "name": "stdout",
     "output_type": "stream",
     "text": [
      " 32c is 89.6f\n",
      " 82f is 27.77777777777778c\n"
     ]
    }
   ],
   "source": [
    "def ctof(n):\n",
    "    return f\" {n}c is {(n*(9/5))+32}f\"\n",
    "def ftoc(n):\n",
    "    return f\" {n}f is {(n-32)*5/9}c\"\n",
    "print(ctof(int(input(\"enter temp in c\")))) \n",
    "print(ftoc(int(input(\"enter temp in f\")))) "
   ]
  },
  {
   "cell_type": "code",
   "execution_count": 15,
   "id": "3622a862",
   "metadata": {},
   "outputs": [
    {
     "name": "stdout",
     "output_type": "stream",
     "text": [
      "[10, 20, 54, 6, 78]\n",
      "78\n"
     ]
    }
   ],
   "source": [
    "def Max(l):\n",
    "    return max(l)\n",
    "l=list(map(int,input(\"enter list\").split()))\n",
    "print(l)\n",
    "print(Max(l))"
   ]
  },
  {
   "cell_type": "code",
   "execution_count": null,
   "id": "b0840f38",
   "metadata": {},
   "outputs": [
    {
     "name": "stdout",
     "output_type": "stream",
     "text": [
      "800.0\n"
     ]
    }
   ],
   "source": [
    "def Si(p,t,r):\n",
    "    return (p*t*r)/100\n",
    "print(\"interest:\",Si(2000,20,2))"
   ]
  },
  {
   "cell_type": "code",
   "execution_count": 19,
   "id": "0274f8b1",
   "metadata": {},
   "outputs": [
    {
     "name": "stdout",
     "output_type": "stream",
     "text": [
      "defaulters: ['an', 'ga']\n"
     ]
    }
   ],
   "source": [
    "def f(d):\n",
    "    it=d.items()\n",
    "    return [k for k,v in d.items() if v<=75]\n",
    "print(\"defaulters:\",f({'an':75,'ba':90,'ga':70}))"
   ]
  },
  {
   "cell_type": "code",
   "execution_count": 20,
   "id": "16ff21a9",
   "metadata": {},
   "outputs": [
    {
     "name": "stdout",
     "output_type": "stream",
     "text": [
      "[10, 2, 3, 54, 67]\n",
      "MaxE: 67\n",
      "MinE: 2\n"
     ]
    }
   ],
   "source": [
    "def Max(l):\n",
    "    return max(l)\n",
    "def Min(l):\n",
    "    return min(l)\n",
    "l=list(map(int,input(\"enter list\").split()))\n",
    "print(l)\n",
    "print(\"MaxE:\",Max(l))\n",
    "print(\"MinE:\",Min(l))"
   ]
  },
  {
   "cell_type": "code",
   "execution_count": 22,
   "id": "e45d765c",
   "metadata": {},
   "outputs": [
    {
     "name": "stdout",
     "output_type": "stream",
     "text": [
      "Sum of digits 10\n"
     ]
    }
   ],
   "source": [
    "def SumE(l):\n",
    "    s=0\n",
    "    for i in l:\n",
    "        s+=int(i)\n",
    "    return s\n",
    "print(\"Sum of digits\",SumE(input()))"
   ]
  },
  {
   "cell_type": "code",
   "execution_count": null,
   "id": "ddc4f630",
   "metadata": {},
   "outputs": [
    {
     "name": "stdout",
     "output_type": "stream",
     "text": [
      "isPrime: True\n"
     ]
    }
   ],
   "source": [
    "def isPrime(n):\n",
    "    for i in range(2,int(n*0.5)):\n",
    "        if n%i==0:\n",
    "            return False\n",
    "    return True\n",
    "print(\"isPrime:\",isPrime(int(input(\"enter number\"))))"
   ]
  },
  {
   "cell_type": "code",
   "execution_count": 30,
   "id": "d0776545",
   "metadata": {},
   "outputs": [
    {
     "name": "stdout",
     "output_type": "stream",
     "text": [
      "defaulters: 35\n"
     ]
    }
   ],
   "source": [
    "def f(d):\n",
    "    s=0\n",
    "    for x in d:\n",
    "        s+=d[x] \n",
    "    return s\n",
    "print(\"defaulters:\",f({'an':10,'ba':20,'ga':5}))"
   ]
  },
  {
   "cell_type": "code",
   "execution_count": 34,
   "id": "491b98af",
   "metadata": {},
   "outputs": [
    {
     "name": "stdout",
     "output_type": "stream",
     "text": [
      "sum: 5\n"
     ]
    }
   ],
   "source": [
    "def Max(a,b,c):\n",
    "    if a>b and a>c:\n",
    "        return a\n",
    "    elif b>c and b>a:\n",
    "        return b\n",
    "    else:\n",
    "        return c\n",
    "a,b,c=map(int,input().split())\n",
    "print(\"sum:\",Max(a,b,c))"
   ]
  },
  {
   "cell_type": "code",
   "execution_count": 32,
   "id": "9dcc2247",
   "metadata": {},
   "outputs": [
    {
     "name": "stdout",
     "output_type": "stream",
     "text": [
      "Counter({'h': 2, 'a': 2, 'r': 1, 's': 1})\n"
     ]
    }
   ],
   "source": [
    "from collections import Counter\n",
    "def Co(m):\n",
    "    return Counter(m)\n",
    "print(Co(input(\"enter string\")))"
   ]
  },
  {
   "cell_type": "code",
   "execution_count": 36,
   "id": "26d3dca0",
   "metadata": {},
   "outputs": [
    {
     "name": "stdout",
     "output_type": "stream",
     "text": [
      "Elec:98= 490\n",
      "Elec:130= 710\n",
      "Elec:240= 50000\n"
     ]
    }
   ],
   "source": [
    "def Elec(u):\n",
    "    if u<=100:\n",
    "        return u*5\n",
    "    elif u>100 and u<=200:\n",
    "        return (100*5)+(u-100)*7\n",
    "    elif u>200:\n",
    "        return 200*u\n",
    "print(\"Elec:98=\",Elec(98))\n",
    "print(\"Elec:130=\",Elec(130))\n",
    "print(\"Elec:240=\",Elec(250))"
   ]
  },
  {
   "cell_type": "code",
   "execution_count": 37,
   "id": "097e1a2d",
   "metadata": {},
   "outputs": [
    {
     "name": "stdout",
     "output_type": "stream",
     "text": [
      "4321\n"
     ]
    }
   ],
   "source": [
    "print(input(\"enter string :\")[::-1])"
   ]
  },
  {
   "cell_type": "code",
   "execution_count": 41,
   "id": "e5014d74",
   "metadata": {},
   "outputs": [
    {
     "name": "stdout",
     "output_type": "stream",
     "text": [
      "['fa', 'ha', 'he', 'he']\n"
     ]
    }
   ],
   "source": [
    "l=list(map(str,input().split()))\n",
    "l=sorted(l)\n",
    "print(l)"
   ]
  },
  {
   "cell_type": "code",
   "execution_count": 42,
   "id": "38e8f2dc",
   "metadata": {},
   "outputs": [
    {
     "name": "stdout",
     "output_type": "stream",
     "text": [
      "+ :3 -:1 0:2\n"
     ]
    }
   ],
   "source": [
    "l=list(map(int,input().split()))\n",
    "p,n,z=0,0,0\n",
    "for i in l:\n",
    "    if i<0:\n",
    "        n+=1\n",
    "    elif i>0:\n",
    "        p+=1\n",
    "    else:\n",
    "        z+=1\n",
    "print(f\"+ :{p} -:{n} 0:{z}\")"
   ]
  },
  {
   "cell_type": "code",
   "execution_count": 45,
   "id": "8f6355bb",
   "metadata": {},
   "outputs": [
    {
     "name": "stdout",
     "output_type": "stream",
     "text": [
      "False\n",
      "False\n",
      "True\n",
      "you used your limit\n"
     ]
    }
   ],
   "source": [
    "c=3\n",
    "while True:\n",
    "    if c<=0:\n",
    "        print(\"you used your limit\")\n",
    "        break\n",
    "    x=input(f\"enter pin {c}time\")\n",
    "    print(x==\"1234\")\n",
    "    c-=1\n"
   ]
  },
  {
   "cell_type": "code",
   "execution_count": null,
   "id": "cd4af6e2",
   "metadata": {},
   "outputs": [
    {
     "name": "stdout",
     "output_type": "stream",
     "text": [
      "Z: 5.0\n",
      "final block\n",
      "enteer denominator positve(>0)\n",
      "final block\n"
     ]
    }
   ],
   "source": [
    "def Div(a,b):\n",
    "    try:\n",
    "        z=a/b\n",
    "    except ZeroDivisionError:\n",
    "        print(\"enteer denominator other than 0\")\n",
    "    else:\n",
    "        print(\"Z:\",z)\n",
    "    finally:\n",
    "        print(\"final block\")\n",
    "Div(10,2)\n",
    "Div(10,0)"
   ]
  },
  {
   "cell_type": "code",
   "execution_count": 52,
   "id": "0d8fc700",
   "metadata": {},
   "outputs": [
    {
     "name": "stdout",
     "output_type": "stream",
     "text": [
      "enter a valid input\n",
      "final block\n",
      "enteer denominator positve(>0)\n",
      "final block\n",
      "Z: 5.0\n",
      "final block\n"
     ]
    }
   ],
   "source": [
    "def Div(a,b):\n",
    "    try:\n",
    "        a=float(a)\n",
    "        b=float(b)\n",
    "        z=a/b\n",
    "    except ValueError:\n",
    "        print(\"enter a valid input\")\n",
    "    except ZeroDivisionError:\n",
    "        print(\"enteer denominator positve(>0)\")\n",
    "    else:\n",
    "        print(\"Z:\",z)\n",
    "    finally:\n",
    "        print(\"final block\")\n",
    "Div(10,'a')\n",
    "Div(10,0)\n",
    "Div(10,2)"
   ]
  },
  {
   "cell_type": "code",
   "execution_count": 50,
   "id": "4c442ecf",
   "metadata": {},
   "outputs": [
    {
     "name": "stdout",
     "output_type": "stream",
     "text": [
      "newbalance 10\n",
      "Thank for your support\n",
      "insufficient balance\n",
      "Thank for your support\n"
     ]
    }
   ],
   "source": [
    "def Div(w,b):\n",
    "    try:\n",
    "        if w>b:\n",
    "            raise ValueError(\"insufficient balance\")\n",
    "        else:\n",
    "            b-=w\n",
    "    except ValueError as e:\n",
    "        print(e)\n",
    "    else:\n",
    "        print(\"newbalance\",b)\n",
    "    finally:\n",
    "        print(\"Thank for your support\")\n",
    "Div(10,20)\n",
    "Div(10,5)"
   ]
  },
  {
   "cell_type": "code",
   "execution_count": 55,
   "id": "ed66773b",
   "metadata": {},
   "outputs": [
    {
     "name": "stdout",
     "output_type": "stream",
     "text": [
      "bill: 100\n",
      "Bill processing finished\n",
      "bill: 850\n",
      "Bill processing finished\n",
      "bill: 42000\n",
      "Bill processing finished\n",
      "enter units in integer\n",
      "Bill processing finished\n"
     ]
    }
   ],
   "source": [
    "\n",
    "def Div(u):\n",
    "    o=0\n",
    "    try:\n",
    "        u=int(u)\n",
    "        if u<=100:\n",
    "            o=u*5\n",
    "        elif u>100 and u<=200:\n",
    "            o=(100*5)+(u-100)*7\n",
    "        elif u>200:\n",
    "            o=200*u\n",
    "    except ValueError:\n",
    "        print(\"enter units in integer\")\n",
    "    except TypeError:\n",
    "        print(\"enter valid input\")\n",
    "    else:\n",
    "        print(\"bill:\",o)\n",
    "    finally:\n",
    "        print(\"Bill processing finished\")\n",
    "Div(20)\n",
    "Div(150)\n",
    "Div(210)\n",
    "Div('ad')"
   ]
  },
  {
   "cell_type": "code",
   "execution_count": null,
   "id": "5c398edd",
   "metadata": {},
   "outputs": [],
   "source": []
  }
 ],
 "metadata": {
  "kernelspec": {
   "display_name": "base",
   "language": "python",
   "name": "python3"
  },
  "language_info": {
   "codemirror_mode": {
    "name": "ipython",
    "version": 3
   },
   "file_extension": ".py",
   "mimetype": "text/x-python",
   "name": "python",
   "nbconvert_exporter": "python",
   "pygments_lexer": "ipython3",
   "version": "3.13.5"
  }
 },
 "nbformat": 4,
 "nbformat_minor": 5
}
