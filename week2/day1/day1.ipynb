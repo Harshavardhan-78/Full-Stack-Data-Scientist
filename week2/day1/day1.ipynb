{
 "cells": [
  {
   "cell_type": "code",
   "execution_count": null,
   "id": "5ea91b99",
   "metadata": {},
   "outputs": [
    {
     "name": "stdout",
     "output_type": "stream",
     "text": [
      "2 3 5 7 11 13 17 19 "
     ]
    }
   ],
   "source": [
    "def is_prime(n):\n",
    "    if n <= 1:\n",
    "        return False\n",
    "    for i in range(2, int(n ** 0.5) + 1):\n",
    "        if n % i == 0:\n",
    "            return False\n",
    "    return True\n",
    "n=int(input(\"enter number\"))\n",
    "for i in range(1,n+1):\n",
    "    if is_prime(i):\n",
    "        print(i,end=\",\")"
   ]
  },
  {
   "cell_type": "code",
   "execution_count": null,
   "id": "ad5ba030",
   "metadata": {},
   "outputs": [
    {
     "name": "stdout",
     "output_type": "stream",
     "text": [
      "neveroddoreven\n",
      "neveroddoreven\n",
      "True\n"
     ]
    }
   ],
   "source": [
    "n=input(\"enter string\").replace(\" \",\"\").lower()\n",
    "x=n[::-1]\n",
    "if n==x:\n",
    "    print(\"True\")\n",
    "else:\n",
    "    print(\"false\")"
   ]
  },
  {
   "cell_type": "code",
   "execution_count": 9,
   "id": "26986266",
   "metadata": {},
   "outputs": [
    {
     "name": "stdout",
     "output_type": "stream",
     "text": [
      "True\n"
     ]
    }
   ],
   "source": [
    "def isana(n):\n",
    "    l,l1=n[0],n[1]\n",
    "    print(sorted(l)==sorted(l1))\n",
    "n=input().split()\n",
    "isana(n)\n",
    "\n"
   ]
  },
  {
   "cell_type": "code",
   "execution_count": 11,
   "id": "0118bf5f",
   "metadata": {},
   "outputs": [
    {
     "name": "stdout",
     "output_type": "stream",
     "text": [
      "vowels:2 consonants=3\n"
     ]
    }
   ],
   "source": [
    "s={'a','e','i','o','u'}\n",
    "def count(n):\n",
    "    n=n.lower()\n",
    "    v,c=0,0\n",
    "    for i in n:\n",
    "        if i in s:\n",
    "            v+=1\n",
    "        else:\n",
    "            c+=1\n",
    "    print(f\"vowels:{v} consonants={c}\")\n",
    "n=input(\"enter string\")\n",
    "count(n)"
   ]
  },
  {
   "cell_type": "code",
   "execution_count": 12,
   "id": "1b8da566",
   "metadata": {},
   "outputs": [
    {
     "name": "stdout",
     "output_type": "stream",
     "text": [
      "amazing\n"
     ]
    }
   ],
   "source": [
    "def longe(n):\n",
    "    w=n.split()\n",
    "    m=0\n",
    "    l=[len(wo) for wo in w]\n",
    "    m=l.index(max(l))\n",
    "    return w[m]\n",
    "n=input(\"enter sentence\")\n",
    "print(longe(n))"
   ]
  },
  {
   "cell_type": "code",
   "execution_count": 15,
   "id": "310d1e7d",
   "metadata": {},
   "outputs": [
    {
     "name": "stdout",
     "output_type": "stream",
     "text": [
      "RwEUZ\n"
     ]
    }
   ],
   "source": [
    "import random \n",
    "import string\n",
    "def gen(l):\n",
    "    c=string.ascii_letters+string.digits+string.punctuation\n",
    "    return ''.join(random.choice(c) for _ in range(l))\n",
    "l=int(input(\"enter length\"))\n",
    "print(gen(l))"
   ]
  },
  {
   "cell_type": "code",
   "execution_count": 16,
   "id": "f379abe1",
   "metadata": {},
   "outputs": [
    {
     "name": "stdout",
     "output_type": "stream",
     "text": [
      "1.4142135623730951\n"
     ]
    }
   ],
   "source": [
    "import math\n",
    "def cal(m):\n",
    "    w=m.split(\" \")\n",
    "    x=int(w[1])\n",
    "    if w[0]==\"sqrt\":\n",
    "        return math.sqrt(x)\n",
    "    elif w[0]==\"fact\":\n",
    "        if x>=0:\n",
    "            return math.factorial(x)\n",
    "    elif w[0]==\"sin\":\n",
    "        return math.sin(math.radins(x))\n",
    "    else:\n",
    "        return math.cos(math.radians(x))\n",
    "print(cal(input(\"enter opand number\")))\n"
   ]
  },
  {
   "cell_type": "code",
   "execution_count": 19,
   "id": "42453a00",
   "metadata": {},
   "outputs": [
    {
     "name": "stdout",
     "output_type": "stream",
     "text": [
      "Counter({'cat': 2, 'dog': 1})\n"
     ]
    }
   ],
   "source": [
    "from collections import Counter\n",
    "def freq(m):\n",
    "    m=m.split(\" \")\n",
    "    return Counter(m)\n",
    "print(freq(input(\"enter string to count\")))"
   ]
  },
  {
   "cell_type": "code",
   "execution_count": 21,
   "id": "36caf504",
   "metadata": {},
   "outputs": [
    {
     "name": "stdout",
     "output_type": "stream",
     "text": [
      "Weather: Windy, Temp: 31°C\n"
     ]
    }
   ],
   "source": [
    "import random\n",
    "\n",
    "def weat():\n",
    "    conditions = [\"Sunny\", \"Cloudy\", \"Rainy\", \"Windy\"]\n",
    "    t = random.randint(20, 40)  \n",
    "    w= random.choice(conditions)\n",
    "    return f\"Weather: {w}, Temp: {t}°C\"\n",
    "\n",
    "print(weat())\n"
   ]
  },
  {
   "cell_type": "code",
   "execution_count": 22,
   "id": "9a61cdd4",
   "metadata": {},
   "outputs": [
    {
     "name": "stdout",
     "output_type": "stream",
     "text": [
      "5\n",
      "4\n",
      "3\n",
      "2\n",
      "1\n",
      "Time's up\n"
     ]
    }
   ],
   "source": [
    "import time\n",
    "def count(n):\n",
    "    for i in range(n,0,-1):\n",
    "        print(i)\n",
    "        time.sleep(1)\n",
    "    print(\"Time's up\")\n",
    "count(5)"
   ]
  },
  {
   "cell_type": "code",
   "execution_count": 23,
   "id": "1122f07a",
   "metadata": {},
   "outputs": [
    {
     "name": "stdout",
     "output_type": "stream",
     "text": [
      "invalid funds\n",
      "150\n"
     ]
    }
   ],
   "source": [
    "class Bank:\n",
    "    def __init__(self,balance,owner=None):\n",
    "        self.balance=balance\n",
    "        self.owner=owner\n",
    "    def dep(self,a):\n",
    "        if a>0:\n",
    "            self.balance+=a\n",
    "        else:\n",
    "            print(\"Invalid deposit amount\")\n",
    "    def withd(self,a):\n",
    "        if a>self.balance:\n",
    "            self.balance-=a\n",
    "        else:\n",
    "            print(\"invalid funds\")\n",
    "    def get_b(self):\n",
    "        return self.balance\n",
    "acc=Bank(100)\n",
    "acc.dep(50)\n",
    "acc.withd(30)\n",
    "print(acc.get_b())"
   ]
  },
  {
   "cell_type": "code",
   "execution_count": null,
   "id": "aadcf86a",
   "metadata": {},
   "outputs": [],
   "source": []
  }
 ],
 "metadata": {
  "kernelspec": {
   "display_name": "base",
   "language": "python",
   "name": "python3"
  },
  "language_info": {
   "codemirror_mode": {
    "name": "ipython",
    "version": 3
   },
   "file_extension": ".py",
   "mimetype": "text/x-python",
   "name": "python",
   "nbconvert_exporter": "python",
   "pygments_lexer": "ipython3",
   "version": "3.13.5"
  }
 },
 "nbformat": 4,
 "nbformat_minor": 5
}
