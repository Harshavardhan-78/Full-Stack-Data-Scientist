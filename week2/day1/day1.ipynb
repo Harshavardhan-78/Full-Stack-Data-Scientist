{
 "cells": [
  {
   "cell_type": "code",
   "execution_count": null,
   "id": "5ea91b99",
   "metadata": {},
   "outputs": [
    {
     "name": "stdout",
     "output_type": "stream",
     "text": [
      "2 3 5 7 11 13 17 19 "
     ]
    }
   ],
   "source": [
    "def is_prime(n):\n",
    "    if n <= 1:\n",
    "        return False\n",
    "    for i in range(2, int(n ** 0.5) + 1):\n",
    "        if n % i == 0:\n",
    "            return False\n",
    "    return True\n",
    "n=int(input(\"enter number\"))\n",
    "for i in range(1,n+1):\n",
    "    if is_prime(i):\n",
    "        print(i,end=\",\")"
   ]
  },
  {
   "cell_type": "code",
   "execution_count": null,
   "id": "ad5ba030",
   "metadata": {},
   "outputs": [
    {
     "name": "stdout",
     "output_type": "stream",
     "text": [
      "neveroddoreven\n",
      "neveroddoreven\n",
      "True\n"
     ]
    }
   ],
   "source": [
    "n=input(\"enter string\").replace(\" \",\"\").lower()\n",
    "x=n[::-1]\n",
    "if n==x:\n",
    "    print(\"True\")\n",
    "else:\n",
    "    print(\"false\")"
   ]
  },
  {
   "cell_type": "code",
   "execution_count": 9,
   "id": "26986266",
   "metadata": {},
   "outputs": [
    {
     "name": "stdout",
     "output_type": "stream",
     "text": [
      "True\n"
     ]
    }
   ],
   "source": [
    "def isana(n):\n",
    "    l,l1=n[0],n[1]\n",
    "    print(sorted(l)==sorted(l1))\n",
    "n=input().split()\n",
    "isana(n)\n",
    "\n"
   ]
  },
  {
   "cell_type": "code",
   "execution_count": 11,
   "id": "0118bf5f",
   "metadata": {},
   "outputs": [
    {
     "name": "stdout",
     "output_type": "stream",
     "text": [
      "vowels:2 consonants=3\n"
     ]
    }
   ],
   "source": [
    "s={'a','e','i','o','u'}\n",
    "def count(n):\n",
    "    n=n.lower()\n",
    "    v,c=0,0\n",
    "    for i in n:\n",
    "        if i in s:\n",
    "            v+=1\n",
    "        else:\n",
    "            c+=1\n",
    "    print(f\"vowels:{v} consonants={c}\")\n",
    "n=input(\"enter string\")\n",
    "count(n)"
   ]
  },
  {
   "cell_type": "code",
   "execution_count": 12,
   "id": "1b8da566",
   "metadata": {},
   "outputs": [
    {
     "name": "stdout",
     "output_type": "stream",
     "text": [
      "amazing\n"
     ]
    }
   ],
   "source": [
    "def longe(n):\n",
    "    w=n.split()\n",
    "    m=0\n",
    "    l=[len(wo) for wo in w]\n",
    "    m=l.index(max(l))\n",
    "    return w[m]\n",
    "n=input(\"enter sentence\")\n",
    "print(longe(n))"
   ]
  },
  {
   "cell_type": "code",
   "execution_count": 15,
   "id": "310d1e7d",
   "metadata": {},
   "outputs": [
    {
     "name": "stdout",
     "output_type": "stream",
     "text": [
      "RwEUZ\n"
     ]
    }
   ],
   "source": [
    "import random \n",
    "import string\n",
    "def gen(l):\n",
    "    c=string.ascii_letters+string.digits+string.punctuation\n",
    "    return ''.join(random.choice(c) for _ in range(l))\n",
    "l=int(input(\"enter length\"))\n",
    "print(gen(l))"
   ]
  },
  {
   "cell_type": "code",
   "execution_count": 16,
   "id": "f379abe1",
   "metadata": {},
   "outputs": [
    {
     "name": "stdout",
     "output_type": "stream",
     "text": [
      "1.4142135623730951\n"
     ]
    }
   ],
   "source": [
    "import math\n",
    "def cal(m):\n",
    "    w=m.split(\" \")\n",
    "    x=int(w[1])\n",
    "    if w[0]==\"sqrt\":\n",
    "        return math.sqrt(x)\n",
    "    elif w[0]==\"fact\":\n",
    "        if x>=0:\n",
    "            return math.factorial(x)\n",
    "    elif w[0]==\"sin\":\n",
    "        return math.sin(math.radins(x))\n",
    "    else:\n",
    "        return math.cos(math.radians(x))\n",
    "print(cal(input(\"enter opand number\")))\n"
   ]
  },
  {
   "cell_type": "code",
   "execution_count": 19,
   "id": "42453a00",
   "metadata": {},
   "outputs": [
    {
     "name": "stdout",
     "output_type": "stream",
     "text": [
      "Counter({'cat': 2, 'dog': 1})\n"
     ]
    }
   ],
   "source": [
    "from collections import Counter\n",
    "def freq(m):\n",
    "    m=m.split(\" \")\n",
    "    return Counter(m)\n",
    "print(freq(input(\"enter string to count\")))"
   ]
  },
  {
   "cell_type": "code",
   "execution_count": 21,
   "id": "36caf504",
   "metadata": {},
   "outputs": [
    {
     "name": "stdout",
     "output_type": "stream",
     "text": [
      "Weather: Windy, Temp: 31°C\n"
     ]
    }
   ],
   "source": [
    "import random\n",
    "\n",
    "def weat():\n",
    "    conditions = [\"Sunny\", \"Cloudy\", \"Rainy\", \"Windy\"]\n",
    "    t = random.randint(20, 40)  \n",
    "    w= random.choice(conditions)\n",
    "    return f\"Weather: {w}, Temp: {t}°C\"\n",
    "\n",
    "print(weat())\n"
   ]
  },
  {
   "cell_type": "code",
   "execution_count": 22,
   "id": "9a61cdd4",
   "metadata": {},
   "outputs": [
    {
     "name": "stdout",
     "output_type": "stream",
     "text": [
      "5\n",
      "4\n",
      "3\n",
      "2\n",
      "1\n",
      "Time's up\n"
     ]
    }
   ],
   "source": [
    "import time\n",
    "def count(n):\n",
    "    for i in range(n,0,-1):\n",
    "        print(i)\n",
    "        time.sleep(1)\n",
    "    print(\"Time's up\")\n",
    "count(5)"
   ]
  },
  {
   "cell_type": "code",
   "execution_count": 23,
   "id": "1122f07a",
   "metadata": {},
   "outputs": [
    {
     "name": "stdout",
     "output_type": "stream",
     "text": [
      "invalid funds\n",
      "150\n"
     ]
    }
   ],
   "source": [
    "class Bank:\n",
    "    def __init__(self,balance,owner=None):\n",
    "        self.balance=balance\n",
    "        self.owner=owner\n",
    "    def dep(self,a):\n",
    "        if a>0:\n",
    "            self.balance+=a\n",
    "        else:\n",
    "            print(\"Invalid deposit amount\")\n",
    "    def withd(self,a):\n",
    "        if a>self.balance:\n",
    "            self.balance-=a\n",
    "        else:\n",
    "            print(\"invalid funds\")\n",
    "    def get_b(self):\n",
    "        return self.balance\n",
    "acc=Bank(100)\n",
    "acc.dep(50)\n",
    "acc.withd(30)\n",
    "print(acc.get_b())"
   ]
  },
  {
   "cell_type": "code",
   "execution_count": 1,
   "id": "aadcf86a",
   "metadata": {},
   "outputs": [
    {
     "name": "stdout",
     "output_type": "stream",
     "text": [
      "85.0\n",
      "90\n",
      "80\n",
      "[90, 80, 85, 10]\n"
     ]
    }
   ],
   "source": [
    "class Stud:\n",
    "    def __init__(self,name,marks=[90,80,85]):\n",
    "        self.name=name\n",
    "        self.marks=marks\n",
    "    def get_av(self):\n",
    "        return sum(self.marks)/len(self.marks)\n",
    "    def get_h(self):\n",
    "        return max(self.marks)\n",
    "    def get_l(self):\n",
    "        return min(self.marks)\n",
    "    def add_mm(self,x):\n",
    "        self.marks.append(x)\n",
    "        return self.marks\n",
    "s1=Stud(\"harsha\")\n",
    "print(s1.get_av())\n",
    "print(s1.get_h())\n",
    "print(s1.get_l())\n",
    "print(s1.add_mm(10))\n",
    "    "
   ]
  },
  {
   "cell_type": "code",
   "execution_count": 6,
   "id": "db32fe51",
   "metadata": {},
   "outputs": [
    {
     "name": "stdout",
     "output_type": "stream",
     "text": [
      "10000.0\n"
     ]
    }
   ],
   "source": [
    "class Emp:\n",
    "    def __init__(self,name,sal,role):\n",
    "        self.name=name\n",
    "        self.sal=sal\n",
    "        self.role=role\n",
    "    def bonus(self):\n",
    "        if self.role==\"Man\":\n",
    "            return self.sal*0.2\n",
    "        elif self.role==\"Dev\":\n",
    "            return self.sal*0.1\n",
    "        elif self.role==\"Int\":\n",
    "            return self.sal*0.05\n",
    "e1=Emp(\"Alice\",50000,\"Man\")\n",
    "print(e1.bonus())\n",
    "    "
   ]
  },
  {
   "cell_type": "code",
   "execution_count": 9,
   "id": "a88465e6",
   "metadata": {},
   "outputs": [
    {
     "name": "stdout",
     "output_type": "stream",
     "text": [
      "153.94\n",
      "20\n"
     ]
    }
   ],
   "source": [
    "import math\n",
    "class Shape:\n",
    "    def __init__(self, name):\n",
    "        self.name = name\n",
    "\n",
    "    def area(self):\n",
    "        raise NotImplementedError(\"Subclass must implement area method\")\n",
    "class Circle(Shape):\n",
    "    def __init__(self, radius):\n",
    "        super().__init__(\"Circle\")\n",
    "        self.radius = radius\n",
    "\n",
    "    def area(self):\n",
    "        return math.pi * (self.radius ** 2)\n",
    "\n",
    "class Rectangle(Shape):\n",
    "    def __init__(self, w, h):\n",
    "        super().__init__(\"Rectangle\")\n",
    "        self.w = w\n",
    "        self.h = h\n",
    "\n",
    "    def area(self):\n",
    "        return self.w* self.h\n",
    "c=Circle(7)\n",
    "print(round(c.area(),2))\n",
    "r=Rectangle(4,5)\n",
    "print(r.area())"
   ]
  },
  {
   "cell_type": "code",
   "execution_count": 10,
   "id": "8d2cb19c",
   "metadata": {},
   "outputs": [
    {
     "name": "stdout",
     "output_type": "stream",
     "text": [
      "items\n",
      "shirt:500\n",
      "shoes:1300\n",
      "\n",
      "Total = ₹1800\n"
     ]
    }
   ],
   "source": [
    "class Ec:\n",
    "    def __init__(self):\n",
    "        self.items={}\n",
    "    def add(self,item,price):\n",
    "        self.items[item]=price\n",
    "    def rem(self,item):\n",
    "        del self.items[item]\n",
    "    def cal(self):\n",
    "        return sum(self.items.values())\n",
    "    def show(self):\n",
    "        for item,price in self.items.items():\n",
    "            print(f\"{item}:{price}\")\n",
    "c=Ec()\n",
    "c.add(\"shirt\",500)\n",
    "c.add(\"shoes\",1300)\n",
    "print(\"items\")\n",
    "c.show()\n",
    "print(f\"\\nTotal = ₹{c.cal()}\")\n"
   ]
  },
  {
   "cell_type": "code",
   "execution_count": 11,
   "id": "3ba8f69f",
   "metadata": {},
   "outputs": [
    {
     "name": "stdout",
     "output_type": "stream",
     "text": [
      "[0, 1, 1, 2, 3, 5, 8]\n"
     ]
    }
   ],
   "source": [
    "n=int(input())\n",
    "r=[]\n",
    "def fib(n):\n",
    "    if n==0:\n",
    "        return 0\n",
    "    elif n==1:\n",
    "        return 1\n",
    "    else:\n",
    "        return fib(n-1)+fib(n-2)\n",
    "for i in range(n):\n",
    "    r.append(fib(i))\n",
    "print(r)\n",
    "        "
   ]
  },
  {
   "cell_type": "code",
   "execution_count": 13,
   "id": "db3cc91c",
   "metadata": {},
   "outputs": [
    {
     "name": "stdout",
     "output_type": "stream",
     "text": [
      "5040\n"
     ]
    }
   ],
   "source": [
    "def fac(n):\n",
    "    if n==0:\n",
    "        return 1\n",
    "    else:\n",
    "        return n*fac(n-1)\n",
    "print(fac(int(input(\"enter nu\"))))"
   ]
  },
  {
   "cell_type": "code",
   "execution_count": 16,
   "id": "37598ff4",
   "metadata": {},
   "outputs": [
    {
     "name": "stdout",
     "output_type": "stream",
     "text": [
      "Counter({'ap': 2, 'ba': 2})\n"
     ]
    }
   ],
   "source": [
    "from collections import Counter\n",
    "def co(m):\n",
    "    return Counter(m)\n",
    "print(co(map(str,input().split())))"
   ]
  },
  {
   "cell_type": "code",
   "execution_count": 19,
   "id": "a858a0df",
   "metadata": {},
   "outputs": [
    {
     "name": "stdout",
     "output_type": "stream",
     "text": [
      "A\n"
     ]
    }
   ],
   "source": [
    "def grade(m):\n",
    "    s=sum(m)//len(m)\n",
    "    if s>=9:\n",
    "        return \"A\"\n",
    "    elif s>=7:\n",
    "        return \"B\"\n",
    "    else:\n",
    "        return \"Fail\"\n",
    "print(grade(list(map(int,input().split()))))\n"
   ]
  },
  {
   "cell_type": "code",
   "execution_count": 22,
   "id": "01aaf979",
   "metadata": {},
   "outputs": [
    {
     "name": "stdout",
     "output_type": "stream",
     "text": [
      "6\n"
     ]
    }
   ],
   "source": [
    "def se(l):\n",
    "    s=set(l)\n",
    "    s=sorted(s)\n",
    "    return s[-2]\n",
    "l=list(map(int,input().split()))\n",
    "print(se(l))\n"
   ]
  },
  {
   "cell_type": "code",
   "execution_count": 24,
   "id": "dc40bf35",
   "metadata": {},
   "outputs": [
    {
     "name": "stdout",
     "output_type": "stream",
     "text": [
      "Text files: 1\n",
      "Python files: 2\n"
     ]
    }
   ],
   "source": [
    "def count_files(files):\n",
    "    t=0\n",
    "    p=0\n",
    "\n",
    "    for f in files:\n",
    "        if f.endswith('.txt'):\n",
    "            t+=1\n",
    "        elif f.endswith('.py'):\n",
    "            p+=1\n",
    "\n",
    "    print(\"Text files:\", t)\n",
    "    print(\"Python files:\", p)\n",
    "\n",
    "\n",
    "# take input from user (space-separated file names)\n",
    "files = input(\"Enter file names: \").split()\n",
    "count_files(files)\n"
   ]
  },
  {
   "cell_type": "code",
   "execution_count": 25,
   "id": "3002dcb0",
   "metadata": {},
   "outputs": [
    {
     "name": "stdout",
     "output_type": "stream",
     "text": [
      "22\n",
      "20\n",
      "170\n"
     ]
    }
   ],
   "source": [
    "import statistics as stats\n",
    "l=list(map(int,input(\"enter list\").split()))\n",
    "print(stats.mean(l))\n",
    "print(stats.median(l))\n",
    "print(stats.variance(l))"
   ]
  },
  {
   "cell_type": "code",
   "execution_count": 27,
   "id": "ebf77b5b",
   "metadata": {},
   "outputs": [
    {
     "name": "stdout",
     "output_type": "stream",
     "text": [
      "Roots are: 2.0 and 1.0\n",
      "None\n"
     ]
    }
   ],
   "source": [
    "import math\n",
    "\n",
    "def roots(a, b, c):\n",
    "    d=b**2 - 4*a*c\n",
    "\n",
    "    if d<0:\n",
    "        print(\"No real roots\")\n",
    "    elif d==0:\n",
    "        root=-b / (2*a)\n",
    "        print(\"Root is:\", root)\n",
    "    else:\n",
    "        r1=(-b + math.sqrt(d)) / (2*a)\n",
    "        r2=(-b - math.sqrt(d)) / (2*a)\n",
    "        print(\"Roots are:\", r1, \"and\", r2)\n",
    "print(roots(1,-3,2))"
   ]
  },
  {
   "cell_type": "code",
   "execution_count": 28,
   "id": "09ae5e41",
   "metadata": {},
   "outputs": [
    {
     "name": "stdout",
     "output_type": "stream",
     "text": [
      "User: paper\n",
      "Computer: rock\n",
      "User is winner\n"
     ]
    }
   ],
   "source": [
    "import random\n",
    "\n",
    "d = {0:'rock', 1:'paper', 2:'scissor'}\n",
    "\n",
    "def game(m):\n",
    "    c = random.choice([0, 1, 2])\n",
    "    print(\"User:\",d[m])\n",
    "    print(\"Computer:\",d[c])\n",
    "\n",
    "    if m==c:\n",
    "        print(\"tie\")\n",
    "    elif (m==0 and c==2) or (m==1 and c==0) or (m==2 and c==1):\n",
    "        print(\"User is winner\")\n",
    "    else:\n",
    "        print(\"Computer is winner\")\n",
    "\n",
    "e=int(input(\"Enter 0 for Rock, 1 for Paper, 2 for Scissor: \"))\n",
    "game(e)\n",
    "\n"
   ]
  },
  {
   "cell_type": "code",
   "execution_count": 29,
   "id": "b2e96343",
   "metadata": {},
   "outputs": [
    {
     "name": "stdout",
     "output_type": "stream",
     "text": [
      "Usage: python add.py num1 num2 num3\n"
     ]
    }
   ],
   "source": [
    "import sys\n",
    "if len(sys.argv) != 4:\n",
    "    print(\"Usage: python add.py num1 num2 num3\")\n",
    "else:\n",
    "    n1=int(sys.argv[1])\n",
    "    n2=int(sys.argv[2])\n",
    "    n3=int(sys.argv[3])\n",
    "    t=n1+n2+n3\n",
    "    print(\"Sum =\",t)\n"
   ]
  },
  {
   "cell_type": "code",
   "execution_count": 34,
   "id": "4efdde2d",
   "metadata": {},
   "outputs": [
    {
     "name": "stdout",
     "output_type": "stream",
     "text": [
      "book alloted Python 101\n",
      "book returned Python 101\n",
      "{'Python 101': 3, 'Data Science': 2}\n"
     ]
    }
   ],
   "source": [
    "class Lib:\n",
    "    def __init__(self,books):\n",
    "        self.books=books\n",
    "    def borr(self,title):\n",
    "        if title in self.books and self.books[title]>0 :\n",
    "            print(\"book alloted\",title)\n",
    "            self.books[title]-=1\n",
    "        else:\n",
    "            print(\"not available\")\n",
    "    def ret(self,title):\n",
    "        if title in self.books:\n",
    "            self.books[title]+=1\n",
    "            print(\"book returned\",title)\n",
    "            \n",
    "    def show(self):\n",
    "        if len(self.books)<0:\n",
    "            print(\"no\")\n",
    "        else:\n",
    "            print(self.books)\n",
    "lib = Lib({\"Python 101\": 3, \"Data Science\": 2})\n",
    " \n",
    "lib.borr(\"Python 101\")\n",
    "lib.ret(\"Python 101\")\n",
    " \n",
    "lib.show()\n"
   ]
  },
  {
   "cell_type": "code",
   "execution_count": 42,
   "id": "f3ef4d77",
   "metadata": {},
   "outputs": [
    {
     "name": "stdout",
     "output_type": "stream",
     "text": [
      "PIN confirmed. You are logged in.\n",
      "Deposit successful. New balance: 700\n",
      "Withdrawal successful. New balance: 600\n",
      "Current balance: 600\n"
     ]
    }
   ],
   "source": [
    "class Atm:\n",
    "    def __init__(self, bal, pin):\n",
    "        self.bal = bal            \n",
    "        self.pin = pin            \n",
    "        self.is_auth = False      \n",
    "\n",
    "    def login(self, pin):\n",
    "        if self.pin == pin:\n",
    "            self.is_auth = True\n",
    "            print(\"PIN confirmed. You are logged in.\")\n",
    "        else:\n",
    "            print(\"Incorrect PIN. Please try again.\")\n",
    "\n",
    "    def deposit(self, x):\n",
    "        if self.is_auth:\n",
    "            self.bal += x\n",
    "            print(\"Deposit successful. New balance:\", self.bal)\n",
    "        else:\n",
    "            print(\"Please login first.\")\n",
    "\n",
    "    def withdraw(self, x):\n",
    "        if not self.is_auth:\n",
    "            print(\"Please login first.\")\n",
    "        elif x > self.bal:\n",
    "            print(\"Insufficient balance.\")\n",
    "        else:\n",
    "            self.bal -= x\n",
    "            print(\"Withdrawal successful. New balance:\", self.bal)\n",
    "\n",
    "    def check(self):\n",
    "        if self.is_auth:\n",
    "            print(\"Current balance:\", self.bal)\n",
    "        else:\n",
    "            print(\"Please login first.\")\n",
    "atm = Atm(500, 1234)   \n",
    "atm.login(1234)        \n",
    "atm.deposit(200)       \n",
    "atm.withdraw(100)      \n",
    "atm.check()            \n"
   ]
  },
  {
   "cell_type": "code",
   "execution_count": 43,
   "id": "0f0d1f8c",
   "metadata": {},
   "outputs": [
    {
     "name": "stdout",
     "output_type": "stream",
     "text": [
      "Dr. Smith is teaching Python.\n",
      "Alice enrolled in Python.\n",
      "Dr. Smith assigned: Project 1.\n",
      "Alice submitted assignment: Project 1.\n"
     ]
    }
   ],
   "source": [
    "\n",
    "class Professor:\n",
    "    def __init__(self, name, subject):\n",
    "        self.name = name\n",
    "        self.subject = subject\n",
    "\n",
    "    def teach(self, course):\n",
    "        return f\"{self.name} is teaching {course}.\"\n",
    "\n",
    "    def give_assignment(self, task):\n",
    "        return f\"{self.name} assigned: {task}.\"\n",
    "class Student:\n",
    "    def __init__(self, name):\n",
    "        self.name = name\n",
    "        self.courses = []       \n",
    "        self.assignments = []   \n",
    "\n",
    "    def enroll(self, course):\n",
    "        if course not in self.courses:\n",
    "            self.courses.append(course)\n",
    "            return f\"{self.name} enrolled in {course}.\"\n",
    "        else:\n",
    "            return f\"{self.name} is already enrolled in {course}.\"\n",
    "\n",
    "    def submit_assignment(self, task):\n",
    "        self.assignments.append(task)\n",
    "        return f\"{self.name} submitted assignment: {task}.\"\n",
    "\n",
    "prof = Professor(\"Dr. Smith\", \"Computer Science\")\n",
    "stud = Student(\"Alice\")\n",
    "\n",
    "print(prof.teach(\"Python\"))             \n",
    "print(stud.enroll(\"Python\"))            \n",
    "print(prof.give_assignment(\"Project 1\"))\n",
    "print(stud.submit_assignment(\"Project 1\")) \n"
   ]
  },
  {
   "cell_type": "code",
   "execution_count": 46,
   "id": "843cb595",
   "metadata": {},
   "outputs": [
    {
     "name": "stdout",
     "output_type": "stream",
     "text": [
      "movie seats booked: Avatar\n",
      "tkts returned Avatar\n",
      "{'Avatar': 9, 'Batman': 5}\n"
     ]
    }
   ],
   "source": [
    "class Mov:\n",
    "    def __init__(self,movs):\n",
    "        self.movs=movs\n",
    "    def book(self,title,tkt):\n",
    "        if title in self.movs and self.movs[title]>0 :\n",
    "            print(\"movie seats booked:\",title)\n",
    "            self.movs[title]-=tkt\n",
    "        else:\n",
    "            print(\"not available tkts\")\n",
    "    def cancel(self,title,tkt):\n",
    "        if title in self.movs:\n",
    "            self.movs[title]+=tkt\n",
    "            print(\"tkts returned\",title)\n",
    "            \n",
    "    def show(self):\n",
    "        if len(self.movs)<0:\n",
    "            print(\"no\")\n",
    "        else:\n",
    "            print(self.movs)\n",
    "cinema = Mov({\"Avatar\": 10, \"Batman\": 5})\n",
    " \n",
    "cinema.book(\"Avatar\", 2)\n",
    "cinema.cancel(\"Avatar\", 1)\n",
    " \n",
    "cinema.show()\n",
    "\n"
   ]
  },
  {
   "cell_type": "code",
   "execution_count": 49,
   "id": "3e722e88",
   "metadata": {},
   "outputs": [
    {
     "name": "stdout",
     "output_type": "stream",
     "text": [
      "Burger added\n",
      "Pizza added\n",
      "Pizza price updated to 250\n",
      "Burger removed\n",
      "{'Pizza': 250}\n"
     ]
    }
   ],
   "source": [
    "class Lib:\n",
    "    def __init__(self):\n",
    "        self.books={}\n",
    "    def adde(self,item,value):\n",
    "        self.books[item]=value\n",
    "        print(item,\"added\")\n",
    "    def rem(self,item):\n",
    "        print(item,\"removed\")\n",
    "        del self.books[item]\n",
    "    def update(self ,item,value):\n",
    "        if item not in self.books:\n",
    "            self.books[item]=value\n",
    "        else:\n",
    "            self.books[item]=value\n",
    "            print(f\"Pizza price updated to {self.books[item]}\")     \n",
    "    def show(self):\n",
    "        if len(self.books)<0:\n",
    "            print(\"no\")\n",
    "        else:\n",
    "            print(self.books)\n",
    "menu = Lib()\n",
    " \n",
    "menu.adde(\"Burger\", 100)\n",
    " \n",
    "menu.adde(\"Pizza\", 200)\n",
    "menu.update(\"Pizza\", 250)\n",
    " \n",
    "menu.rem(\"Burger\")\n",
    "\n",
    "menu.show()"
   ]
  },
  {
   "cell_type": "code",
   "execution_count": null,
   "id": "c2cf438d",
   "metadata": {},
   "outputs": [],
   "source": []
  }
 ],
 "metadata": {
  "kernelspec": {
   "display_name": "base",
   "language": "python",
   "name": "python3"
  },
  "language_info": {
   "codemirror_mode": {
    "name": "ipython",
    "version": 3
   },
   "file_extension": ".py",
   "mimetype": "text/x-python",
   "name": "python",
   "nbconvert_exporter": "python",
   "pygments_lexer": "ipython3",
   "version": "3.13.5"
  }
 },
 "nbformat": 4,
 "nbformat_minor": 5
}
